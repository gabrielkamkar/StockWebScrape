{
  "nbformat": 4,
  "nbformat_minor": 0,
  "metadata": {
    "colab": {
      "name": "Web Scraping 2 (Stock Monitoring)",
      "provenance": [],
      "collapsed_sections": [],
      "authorship_tag": "ABX9TyOtEH0TD2RU2CqCIASqbo9d",
      "include_colab_link": true
    },
    "kernelspec": {
      "name": "python3",
      "display_name": "Python 3"
    }
  },
  "cells": [
    {
      "cell_type": "markdown",
      "metadata": {
        "id": "view-in-github",
        "colab_type": "text"
      },
      "source": [
        "<a href=\"https://colab.research.google.com/github/gabrielkamkar/StockWebScrape/blob/addition-1/Web_Scraping_2_(Stock_Monitoring).ipynb\" target=\"_parent\"><img src=\"https://colab.research.google.com/assets/colab-badge.svg\" alt=\"Open In Colab\"/></a>"
      ]
    },
    {
      "cell_type": "code",
      "metadata": {
        "id": "YTsw4QAMyVNT"
      },
      "source": [
        ""
      ],
      "execution_count": 2,
      "outputs": []
    },
    {
      "cell_type": "markdown",
      "metadata": {
        "id": "E58WO3j6bt4c"
      },
      "source": [
        "The purpose of this practice example is to create a stock price monitoring program. To keep track of the fluxuations of Amazon from Yahoo finance. Only one stock becuase the process is basically the same for all the stock companies."
      ]
    },
    {
      "cell_type": "markdown",
      "metadata": {
        "id": "5Zif2FGKbsMC"
      },
      "source": [
        "Amazon: https://finance.yahoo.com/quote/AMZN?p=AMZN"
      ]
    },
    {
      "cell_type": "code",
      "metadata": {
        "id": "gjxDiHf4dW62"
      },
      "source": [
        "import requests\n",
        "from bs4 import BeautifulSoup\n"
      ],
      "execution_count": 3,
      "outputs": []
    },
    {
      "cell_type": "code",
      "metadata": {
        "id": "UrSWJjz-dkyA",
        "colab": {
          "base_uri": "https://localhost:8080/"
        },
        "outputId": "d7095618-d9af-4745-8393-32d89f98a95c"
      },
      "source": [
        "amzn_page = requests.get('https://finance.yahoo.com/quote/AMZN?p=AMZN')\n",
        "amzn_page.status_code"
      ],
      "execution_count": 4,
      "outputs": [
        {
          "output_type": "execute_result",
          "data": {
            "text/plain": [
              "200"
            ]
          },
          "metadata": {
            "tags": []
          },
          "execution_count": 4
        }
      ]
    },
    {
      "cell_type": "code",
      "metadata": {
        "id": "aKwJnjE3ezUp"
      },
      "source": [
        "amzn_soup = BeautifulSoup(amzn_page.content, 'html.parser')"
      ],
      "execution_count": 5,
      "outputs": []
    },
    {
      "cell_type": "code",
      "metadata": {
        "id": "WY4y1Zy0vmrM"
      },
      "source": [
        "print(amzn_soup.prettify())"
      ],
      "execution_count": null,
      "outputs": []
    },
    {
      "cell_type": "markdown",
      "metadata": {
        "id": "CEjcOMIqf53I"
      },
      "source": [
        "I can have a couple of things in my monitoring program. For now I think I'm gonna go with name, stock symbol, price at close, price after hours, open, and previous close. "
      ]
    },
    {
      "cell_type": "markdown",
      "metadata": {
        "id": "EscliGTVl_OR"
      },
      "source": [
        "Start with price at close and after hours."
      ]
    },
    {
      "cell_type": "code",
      "metadata": {
        "id": "YSG0o9bXgMOc"
      },
      "source": [
        "amzn_header = amzn_soup.find(id= 'quote-header-info')\n"
      ],
      "execution_count": 18,
      "outputs": []
    },
    {
      "cell_type": "code",
      "metadata": {
        "id": "r8BqR4AD4fpI",
        "colab": {
          "base_uri": "https://localhost:8080/",
          "height": 189
        },
        "outputId": "a8bad301-938a-4e44-eae8-a278792c37b6"
      },
      "source": [
        "amzn_name = amzn_header.find(class_='D(ib) Fz(16px) Lh(18px)').get_text()\n",
        "amzn_name\n"
      ],
      "execution_count": 19,
      "outputs": [
        {
          "output_type": "error",
          "ename": "AttributeError",
          "evalue": "ignored",
          "traceback": [
            "\u001b[0;31m---------------------------------------------------------------------------\u001b[0m",
            "\u001b[0;31mAttributeError\u001b[0m                            Traceback (most recent call last)",
            "\u001b[0;32m<ipython-input-19-d0d9d8cc791a>\u001b[0m in \u001b[0;36m<module>\u001b[0;34m()\u001b[0m\n\u001b[0;32m----> 1\u001b[0;31m \u001b[0mamzn_name\u001b[0m \u001b[0;34m=\u001b[0m \u001b[0mamzn_header\u001b[0m\u001b[0;34m.\u001b[0m\u001b[0mfind\u001b[0m\u001b[0;34m(\u001b[0m\u001b[0mclass_\u001b[0m\u001b[0;34m=\u001b[0m\u001b[0;34m'D(ib) Fz(16px) Lh(18px)'\u001b[0m\u001b[0;34m)\u001b[0m\u001b[0;34m.\u001b[0m\u001b[0mget_text\u001b[0m\u001b[0;34m(\u001b[0m\u001b[0;34m)\u001b[0m\u001b[0;34m\u001b[0m\u001b[0;34m\u001b[0m\u001b[0m\n\u001b[0m\u001b[1;32m      2\u001b[0m \u001b[0mamzn_name\u001b[0m\u001b[0;34m\u001b[0m\u001b[0;34m\u001b[0m\u001b[0m\n",
            "\u001b[0;31mAttributeError\u001b[0m: 'NoneType' object has no attribute 'get_text'"
          ]
        }
      ]
    },
    {
      "cell_type": "code",
      "metadata": {
        "id": "FKv5UaRaxS_l"
      },
      "source": [
        "amzn_price = amzn_header.find(class_='My(6px) Pos(r) smartphone_Mt(6px)')\n",
        "print(amzn_price.prettify())\n",
        "\n",
        "\n"
      ],
      "execution_count": null,
      "outputs": []
    },
    {
      "cell_type": "code",
      "metadata": {
        "id": "al2rG9urr0EM",
        "colab": {
          "base_uri": "https://localhost:8080/"
        },
        "outputId": "f03e731a-1e22-44c4-eee9-d18b2a5599ea"
      },
      "source": [
        "amzn_prices = amzn_price.find_all('span')\n",
        "amzn_values = [ap.get_text() for ap in amzn_prices]\n",
        "amzn_values"
      ],
      "execution_count": 10,
      "outputs": [
        {
          "output_type": "execute_result",
          "data": {
            "text/plain": [
              "['3,322.00',\n",
              " '+38.04 (+1.16%)',\n",
              " 'At close:  4:00PM EST',\n",
              " '3,321.10',\n",
              " '-0.90 (-0.03%)',\n",
              " '-0.90 (-0.03%)',\n",
              " 'After hours: 7:54PM EST',\n",
              " 'After hours:']"
            ]
          },
          "metadata": {
            "tags": []
          },
          "execution_count": 10
        }
      ]
    },
    {
      "cell_type": "code",
      "metadata": {
        "id": "aKBquD--yrgZ",
        "colab": {
          "base_uri": "https://localhost:8080/"
        },
        "outputId": "3606c3c7-ab52-49b5-e025-540adedc3c1c"
      },
      "source": [
        "amzn_close = amzn_values[0]\n",
        "amzn_close_perc = amzn_values[1]\n",
        "print(amzn_close)\n",
        "print(amzn_close_perc)\n"
      ],
      "execution_count": 11,
      "outputs": [
        {
          "output_type": "stream",
          "text": [
            "3,322.00\n",
            "+38.04 (+1.16%)\n"
          ],
          "name": "stdout"
        }
      ]
    },
    {
      "cell_type": "markdown",
      "metadata": {
        "id": "0hNw58Jrs3bw"
      },
      "source": [
        "Lets get the colors working and then we can work on the after hours stuff. Wait until its acually after hours."
      ]
    },
    {
      "cell_type": "code",
      "metadata": {
        "id": "--0dlm6MZKmV",
        "colab": {
          "base_uri": "https://localhost:8080/"
        },
        "outputId": "f22332fb-228f-4763-bcc2-dfa4f92ddc4a"
      },
      "source": [
        "import datetime\n",
        "today = datetime.date.today()\n",
        "today\n",
        "today.weekday()\n",
        "time = datetime.tzinfo()\n",
        "print(time)\n",
        "\n"
      ],
      "execution_count": 12,
      "outputs": [
        {
          "output_type": "stream",
          "text": [
            "<datetime.tzinfo object at 0x7f744c7aa6f0>\n"
          ],
          "name": "stdout"
        }
      ]
    },
    {
      "cell_type": "code",
      "metadata": {
        "id": "nBmOMa600RRp",
        "colab": {
          "base_uri": "https://localhost:8080/",
          "height": 244
        },
        "outputId": "7b0b92d8-50ad-4c7a-a37a-5dd0f1e59355"
      },
      "source": [
        "a = []\n",
        "\n",
        "amzn_header.find(class_='C($primaryColor) Fz(14px) Fw(500)')\n",
        "\n",
        "if today.weekday() >= 6:\n",
        "  a = 'Its a Weekend'\n",
        "elif type(amzn_after) == 'NoneType':\n",
        "  amzn_after = amzn_after\n",
        "else:\n",
        "  amzn_after = str('Market is Open')\n",
        "\n",
        "amzn_after\n"
      ],
      "execution_count": 15,
      "outputs": [
        {
          "output_type": "error",
          "ename": "NameError",
          "evalue": "ignored",
          "traceback": [
            "\u001b[0;31m---------------------------------------------------------------------------\u001b[0m",
            "\u001b[0;31mNameError\u001b[0m                                 Traceback (most recent call last)",
            "\u001b[0;32m<ipython-input-15-9667153328d3>\u001b[0m in \u001b[0;36m<module>\u001b[0;34m()\u001b[0m\n\u001b[1;32m      4\u001b[0m \u001b[0;32mif\u001b[0m \u001b[0mtoday\u001b[0m\u001b[0;34m.\u001b[0m\u001b[0mweekday\u001b[0m\u001b[0;34m(\u001b[0m\u001b[0;34m)\u001b[0m \u001b[0;34m>=\u001b[0m \u001b[0;36m6\u001b[0m\u001b[0;34m:\u001b[0m\u001b[0;34m\u001b[0m\u001b[0;34m\u001b[0m\u001b[0m\n\u001b[1;32m      5\u001b[0m   \u001b[0ma\u001b[0m \u001b[0;34m=\u001b[0m \u001b[0;34m'Its a Weekend'\u001b[0m\u001b[0;34m\u001b[0m\u001b[0;34m\u001b[0m\u001b[0m\n\u001b[0;32m----> 6\u001b[0;31m \u001b[0;32melif\u001b[0m \u001b[0mtype\u001b[0m\u001b[0;34m(\u001b[0m\u001b[0mamzn_after\u001b[0m\u001b[0;34m)\u001b[0m \u001b[0;34m==\u001b[0m \u001b[0;34m'NoneType'\u001b[0m\u001b[0;34m:\u001b[0m\u001b[0;34m\u001b[0m\u001b[0;34m\u001b[0m\u001b[0m\n\u001b[0m\u001b[1;32m      7\u001b[0m   \u001b[0mamzn_after\u001b[0m \u001b[0;34m=\u001b[0m \u001b[0mamzn_after\u001b[0m\u001b[0;34m\u001b[0m\u001b[0;34m\u001b[0m\u001b[0m\n\u001b[1;32m      8\u001b[0m \u001b[0;32melse\u001b[0m\u001b[0;34m:\u001b[0m\u001b[0;34m\u001b[0m\u001b[0;34m\u001b[0m\u001b[0m\n",
            "\u001b[0;31mNameError\u001b[0m: name 'amzn_after' is not defined"
          ]
        }
      ]
    },
    {
      "cell_type": "code",
      "metadata": {
        "id": "1B-twsLz1RS9"
      },
      "source": [
        "amzn_after_perc1 = amzn_header.find(class_='Trsdu(0.3s) D(ib) Fz(14px) Fw(500) C($negativeColor)')\n",
        "amzn_after_perc2 = 'Market is Open'\n",
        "amzn_after_perc3\n",
        "if type(amzn_after_perc) == 'None':\n",
        "  amzn_after_perc = 'Market is Open'\n",
        "else:\n",
        "  amzn_after_perc = amzn_after_perc\n",
        "\n",
        "amzn_after_perc"
      ],
      "execution_count": null,
      "outputs": []
    },
    {
      "cell_type": "markdown",
      "metadata": {
        "id": "o0ulkTsGxsJk"
      },
      "source": [
        "Below is the rest of the information to put into table before 'after hours'\n"
      ]
    },
    {
      "cell_type": "code",
      "metadata": {
        "id": "lJSfEJBY40z_"
      },
      "source": [
        "amzn_quote = amzn_soup.find(id='quote-summary')\n"
      ],
      "execution_count": null,
      "outputs": []
    },
    {
      "cell_type": "code",
      "metadata": {
        "id": "luM60HdB5Nlv"
      },
      "source": [
        "amzn_info = amzn_quote.find_all(class_='Trsdu(0.3s) ')"
      ],
      "execution_count": null,
      "outputs": []
    },
    {
      "cell_type": "code",
      "metadata": {
        "id": "WjumC9_m7oUy"
      },
      "source": [
        "amzn_open_close = [ai.get_text() for ai in amzn_info]\n",
        "amzn_open_close"
      ],
      "execution_count": null,
      "outputs": []
    },
    {
      "cell_type": "code",
      "metadata": {
        "id": "Wq7bJdbm7sxf"
      },
      "source": [
        "amzn_prev_close = amzn_open_close[0]\n",
        "amzn_open = amzn_open_close[1]\n",
        "print(amzn_prev_close)\n",
        "print(amzn_open)"
      ],
      "execution_count": null,
      "outputs": []
    },
    {
      "cell_type": "markdown",
      "metadata": {
        "id": "c3U405y4M7MI"
      },
      "source": [
        "Store all objects as strings and place them into data frame, then can pull them out as inters or floats after (whenever needed). Also want to add color to see if increase or decrease."
      ]
    },
    {
      "cell_type": "code",
      "metadata": {
        "id": "WNDHa8eY9JgY"
      },
      "source": [
        "import pandas as pd\n",
        "amzn = pd.DataFrame({\n",
        "    'Name':amzn_name,\n",
        "    'Price':amzn_close,\n",
        "    '% Change':amzn_close_perc,\n",
        "    'Open':amzn_open,\n",
        "    'Previous Close':amzn_prev_close\n",
        "    }\n",
        "    , index=[1]\n",
        ")\n",
        "\n",
        "amzn"
      ],
      "execution_count": null,
      "outputs": []
    },
    {
      "cell_type": "code",
      "metadata": {
        "id": "gVCg91KjVu6N"
      },
      "source": [
        "def color_pos_neg(val):\n",
        "    if val[0] == '-':\n",
        "      color = 'red'\n",
        "    elif val[0] == '+':\n",
        "      color = 'green'\n",
        "    else:\n",
        "      color = 'black'\n",
        "    return 'color: %s' %color\n",
        "\n",
        "\n",
        "\n",
        "amzn.style.applymap(color_pos_neg)"
      ],
      "execution_count": null,
      "outputs": []
    }
  ]
}